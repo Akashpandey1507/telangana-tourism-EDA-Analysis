{
  "nbformat": 4,
  "nbformat_minor": 0,
  "metadata": {
    "colab": {
      "provenance": [],
      "authorship_tag": "ABX9TyO8tmqmDbbCmJyC51vRokX6",
      "include_colab_link": true
    },
    "kernelspec": {
      "name": "python3",
      "display_name": "Python 3"
    },
    "language_info": {
      "name": "python"
    }
  },
  "cells": [
    {
      "cell_type": "markdown",
      "metadata": {
        "id": "view-in-github",
        "colab_type": "text"
      },
      "source": [
        "<a href=\"https://colab.research.google.com/github/Akashpandey1507/telangana-tourism-EDA-Analysis/blob/main/Telangana_Tourirsm.ipynb\" target=\"_parent\"><img src=\"https://colab.research.google.com/assets/colab-badge.svg\" alt=\"Open In Colab\"/></a>"
      ]
    },
    {
      "cell_type": "code",
      "source": [
        "\n",
        "# Access the uploaded file\n",
        "for filename, file_contents in uploaded.items():\n",
        "    print(f'Uploaded file \"{filename}\" with length {len(file_contents)} bytes')\n"
      ],
      "metadata": {
        "colab": {
          "base_uri": "https://localhost:8080/"
        },
        "id": "pp4gbUUNZBw1",
        "outputId": "541c3813-5c0a-42ca-fdc9-3a663293ae3d"
      },
      "execution_count": 106,
      "outputs": [
        {
          "output_type": "stream",
          "name": "stdout",
          "text": [
            "Uploaded file \"Foreign Visitor Merge Data useed as Final Data (1).csv\" with length 64646 bytes\n",
            "Uploaded file \"Domestic Visitors merge Data used as final_merge_data (1).csv\" with length 63547 bytes\n"
          ]
        }
      ]
    },
    {
      "cell_type": "code",
      "source": [
        "!pip install pyspark"
      ],
      "metadata": {
        "colab": {
          "base_uri": "https://localhost:8080/"
        },
        "id": "_hjoosPTZTpA",
        "outputId": "16000a2e-831b-496e-8a0d-191bcdc4d43d"
      },
      "execution_count": 107,
      "outputs": [
        {
          "output_type": "stream",
          "name": "stdout",
          "text": [
            "Requirement already satisfied: pyspark in /usr/local/lib/python3.10/dist-packages (3.4.1)\n",
            "Requirement already satisfied: py4j==0.10.9.7 in /usr/local/lib/python3.10/dist-packages (from pyspark) (0.10.9.7)\n"
          ]
        }
      ]
    },
    {
      "cell_type": "code",
      "source": [
        "import pandas as pd\n",
        "import numpy as np\n",
        "import seaborn as sns\n",
        "import matplotlib.pyplot as plt\n",
        "import pyspark\n",
        "from pyspark.sql import SparkSession\n",
        "from pyspark.sql import functions as f\n",
        "from pyspark.sql import types as t\n"
      ],
      "metadata": {
        "id": "LnkVYzuOZO_5"
      },
      "execution_count": 108,
      "outputs": []
    },
    {
      "cell_type": "code",
      "source": [
        "# Create a SparkSession\n",
        "spark = SparkSession.builder.appName(\"MySparkSession\").getOrCreate()\n",
        "\n",
        "# Verify that the SparkSession is created successfully\n",
        "print(spark)"
      ],
      "metadata": {
        "colab": {
          "base_uri": "https://localhost:8080/"
        },
        "id": "FeujE1xRZO9R",
        "outputId": "d0d26bbd-5487-40b2-8ff5-7626e445def0"
      },
      "execution_count": 109,
      "outputs": [
        {
          "output_type": "stream",
          "name": "stdout",
          "text": [
            "<pyspark.sql.session.SparkSession object at 0x7e39fc960340>\n"
          ]
        }
      ]
    },
    {
      "cell_type": "code",
      "source": [
        "df_domestic = spark.read.csv(\n",
        "    \"Domestic Visitors merge Data used as final_merge_data.csv\",\n",
        "               header=True,\n",
        "               inferSchema=True\n",
        "                             )\n",
        "\n",
        "df_foreign = spark.read.csv(\n",
        "    \"Foreign Visitor Merge Data useed as Final Data.csv\",\n",
        "               header=True,\n",
        "    inferSchema=True\n",
        "    )"
      ],
      "metadata": {
        "id": "xlDj1-1MZO6w"
      },
      "execution_count": 110,
      "outputs": []
    },
    {
      "cell_type": "code",
      "source": [
        "df1 = df_domestic.alias('copy')\n",
        "df2 = df_foreign.alias('copy')"
      ],
      "metadata": {
        "id": "nCiGy3MQZO4Z"
      },
      "execution_count": 111,
      "outputs": []
    },
    {
      "cell_type": "code",
      "source": [
        "df1.show()"
      ],
      "metadata": {
        "colab": {
          "base_uri": "https://localhost:8080/"
        },
        "id": "bwdyJKhoZO14",
        "outputId": "216cc13e-57c2-48b7-ea04-cbabfd7af6b6"
      },
      "execution_count": 112,
      "outputs": [
        {
          "output_type": "stream",
          "name": "stdout",
          "text": [
            "+--------------------+----------+---------+----+--------+\n",
            "|            District|      Date|    Month|Year|Visitors|\n",
            "+--------------------+----------+---------+----+--------+\n",
            "|            Adilabad|01-01-2016|  January|2016|  792136|\n",
            "|            Adilabad|01-02-2016| February|2016|  937820|\n",
            "|            Adilabad|01-03-2016|    March|2016|  582946|\n",
            "|            Adilabad|01-04-2016|    April|2016|  341948|\n",
            "|            Adilabad|01-05-2016|      May|2016|  252887|\n",
            "|            Adilabad|01-06-2016|     June|2016|  368237|\n",
            "|            Adilabad|01-07-2016|     July|2016|  447562|\n",
            "|            Adilabad|01-08-2016|   August|2016|  614285|\n",
            "|            Adilabad|01-09-2016|September|2016|  491279|\n",
            "|            Adilabad|01-10-2016|  October|2016|   94184|\n",
            "|            Adilabad|01-11-2016| November|2016|   99148|\n",
            "|            Adilabad|01-12-2016| December|2016|   53125|\n",
            "|Bhadradri Kothagu...|01-01-2016|  January|2016|       0|\n",
            "|Bhadradri Kothagu...|01-02-2016| February|2016|       0|\n",
            "|Bhadradri Kothagu...|01-03-2016|    March|2016|       0|\n",
            "|Bhadradri Kothagu...|01-04-2016|    April|2016|       0|\n",
            "|Bhadradri Kothagu...|01-05-2016|      May|2016|       0|\n",
            "|Bhadradri Kothagu...|01-06-2016|     June|2016|       0|\n",
            "|Bhadradri Kothagu...|01-07-2016|     July|2016|       0|\n",
            "|Bhadradri Kothagu...|01-08-2016|   August|2016|       0|\n",
            "+--------------------+----------+---------+----+--------+\n",
            "only showing top 20 rows\n",
            "\n"
          ]
        }
      ]
    },
    {
      "cell_type": "code",
      "source": [
        "df1.count()"
      ],
      "metadata": {
        "colab": {
          "base_uri": "https://localhost:8080/"
        },
        "id": "YoRXGy3JZOzY",
        "outputId": "ba121a66-6b2f-45b4-d072-acf6340b5e9a"
      },
      "execution_count": 113,
      "outputs": [
        {
          "output_type": "execute_result",
          "data": {
            "text/plain": [
              "1512"
            ]
          },
          "metadata": {},
          "execution_count": 113
        }
      ]
    },
    {
      "cell_type": "code",
      "source": [
        "df1.columns"
      ],
      "metadata": {
        "colab": {
          "base_uri": "https://localhost:8080/"
        },
        "id": "K0K5_igZavkK",
        "outputId": "2a030047-81ab-4311-83d0-39de4c9059fa"
      },
      "execution_count": 114,
      "outputs": [
        {
          "output_type": "execute_result",
          "data": {
            "text/plain": [
              "['District', 'Date', 'Month', 'Year', 'Visitors']"
            ]
          },
          "metadata": {},
          "execution_count": 114
        }
      ]
    },
    {
      "cell_type": "code",
      "source": [
        "df1.select([f.sum(f.col(column).isNull().cast('int')).alias(column) for column in df1.columns]).show()"
      ],
      "metadata": {
        "colab": {
          "base_uri": "https://localhost:8080/"
        },
        "id": "jSvxpe-vaviC",
        "outputId": "711c4430-1352-431a-e281-8e44d923f6cb"
      },
      "execution_count": 115,
      "outputs": [
        {
          "output_type": "stream",
          "name": "stdout",
          "text": [
            "+--------+----+-----+----+--------+\n",
            "|District|Date|Month|Year|Visitors|\n",
            "+--------+----+-----+----+--------+\n",
            "|       0|   0|    0|   0|       0|\n",
            "+--------+----+-----+----+--------+\n",
            "\n"
          ]
        }
      ]
    },
    {
      "cell_type": "code",
      "source": [
        "df1.printSchema()"
      ],
      "metadata": {
        "colab": {
          "base_uri": "https://localhost:8080/"
        },
        "id": "pAQJzTY9bEON",
        "outputId": "3b651402-339f-4236-a792-f686a6263466"
      },
      "execution_count": 116,
      "outputs": [
        {
          "output_type": "stream",
          "name": "stdout",
          "text": [
            "root\n",
            " |-- District: string (nullable = true)\n",
            " |-- Date: string (nullable = true)\n",
            " |-- Month: string (nullable = true)\n",
            " |-- Year: integer (nullable = true)\n",
            " |-- Visitors: integer (nullable = true)\n",
            "\n"
          ]
        }
      ]
    },
    {
      "cell_type": "code",
      "source": [
        "df1 = df1.withColumn(\"Year\", f.col(\"Year\").cast('int'))"
      ],
      "metadata": {
        "id": "aAlrlGIdbK2G"
      },
      "execution_count": 117,
      "outputs": []
    },
    {
      "cell_type": "code",
      "source": [
        "date_format_input = \"dd-MM-yyyy\"\n",
        "date_format_output = \"yyyy-MM-dd HH:mm:ss\"\n",
        "\n",
        "# Parse the string into a timestamp\n",
        "df1 = df1.withColumn('Date', f.to_timestamp(df1['Date'], date_format_input))\n",
        "\n",
        "# Cast the timestamp to datetime data type\n",
        "df1 = df1.withColumn('Date', df1['Date'].cast(t.TimestampType()))\n"
      ],
      "metadata": {
        "id": "ygC0jkrrdAPF"
      },
      "execution_count": 118,
      "outputs": []
    },
    {
      "cell_type": "code",
      "source": [
        "df1.printSchema()"
      ],
      "metadata": {
        "colab": {
          "base_uri": "https://localhost:8080/"
        },
        "id": "CRc1DbSzbKtN",
        "outputId": "f819f5d4-86b5-4bad-b776-018926056a11"
      },
      "execution_count": 119,
      "outputs": [
        {
          "output_type": "stream",
          "name": "stdout",
          "text": [
            "root\n",
            " |-- District: string (nullable = true)\n",
            " |-- Date: timestamp (nullable = true)\n",
            " |-- Month: string (nullable = true)\n",
            " |-- Year: integer (nullable = true)\n",
            " |-- Visitors: integer (nullable = true)\n",
            "\n"
          ]
        }
      ]
    },
    {
      "cell_type": "code",
      "source": [
        "df1.show()"
      ],
      "metadata": {
        "colab": {
          "base_uri": "https://localhost:8080/"
        },
        "id": "0RUAjww-bKpd",
        "outputId": "a790b338-8881-4812-ee40-4c7f6700d77b"
      },
      "execution_count": 120,
      "outputs": [
        {
          "output_type": "stream",
          "name": "stdout",
          "text": [
            "+--------------------+-------------------+---------+----+--------+\n",
            "|            District|               Date|    Month|Year|Visitors|\n",
            "+--------------------+-------------------+---------+----+--------+\n",
            "|            Adilabad|2016-01-01 00:00:00|  January|2016|  792136|\n",
            "|            Adilabad|2016-02-01 00:00:00| February|2016|  937820|\n",
            "|            Adilabad|2016-03-01 00:00:00|    March|2016|  582946|\n",
            "|            Adilabad|2016-04-01 00:00:00|    April|2016|  341948|\n",
            "|            Adilabad|2016-05-01 00:00:00|      May|2016|  252887|\n",
            "|            Adilabad|2016-06-01 00:00:00|     June|2016|  368237|\n",
            "|            Adilabad|2016-07-01 00:00:00|     July|2016|  447562|\n",
            "|            Adilabad|2016-08-01 00:00:00|   August|2016|  614285|\n",
            "|            Adilabad|2016-09-01 00:00:00|September|2016|  491279|\n",
            "|            Adilabad|2016-10-01 00:00:00|  October|2016|   94184|\n",
            "|            Adilabad|2016-11-01 00:00:00| November|2016|   99148|\n",
            "|            Adilabad|2016-12-01 00:00:00| December|2016|   53125|\n",
            "|Bhadradri Kothagu...|2016-01-01 00:00:00|  January|2016|       0|\n",
            "|Bhadradri Kothagu...|2016-02-01 00:00:00| February|2016|       0|\n",
            "|Bhadradri Kothagu...|2016-03-01 00:00:00|    March|2016|       0|\n",
            "|Bhadradri Kothagu...|2016-04-01 00:00:00|    April|2016|       0|\n",
            "|Bhadradri Kothagu...|2016-05-01 00:00:00|      May|2016|       0|\n",
            "|Bhadradri Kothagu...|2016-06-01 00:00:00|     June|2016|       0|\n",
            "|Bhadradri Kothagu...|2016-07-01 00:00:00|     July|2016|       0|\n",
            "|Bhadradri Kothagu...|2016-08-01 00:00:00|   August|2016|       0|\n",
            "+--------------------+-------------------+---------+----+--------+\n",
            "only showing top 20 rows\n",
            "\n"
          ]
        }
      ]
    },
    {
      "cell_type": "code",
      "source": [
        "top10_dict = df1.groupBy(\"District\").agg(\n",
        "    f.sum(\"Visitors\").alias(\"Total_Visitors\")\n",
        ").orderBy(\"Total_Visitors\", ascending=False).limit(10)\n",
        "\n",
        "top10_dict.show()"
      ],
      "metadata": {
        "colab": {
          "base_uri": "https://localhost:8080/"
        },
        "id": "qQG-VrRBga7x",
        "outputId": "8bbab55b-4198-4ee8-d12e-8d4a96bc1797"
      },
      "execution_count": 123,
      "outputs": [
        {
          "output_type": "stream",
          "name": "stdout",
          "text": [
            "+--------------------+--------------+\n",
            "|            District|Total_Visitors|\n",
            "+--------------------+--------------+\n",
            "|           Hyderabad|      83900960|\n",
            "|   Rajanna Sircilla |      41763276|\n",
            "|    Warangal (Urban)|      30726603|\n",
            "|     Yadadri Bhongir|      26893080|\n",
            "|Bhadradri Kothagu...|      21600962|\n",
            "|              Medak |      20542639|\n",
            "|Jayashankar Bhoop...|      19632865|\n",
            "|         Mahbubnagar|      17180118|\n",
            "|              Nirmal|      13315796|\n",
            "|            Jagtial |      11303514|\n",
            "+--------------------+--------------+\n",
            "\n"
          ]
        }
      ]
    },
    {
      "cell_type": "code",
      "source": [
        "top10_dict = top10_dict.toPandas()"
      ],
      "metadata": {
        "id": "mhCp3U5Hg_4c"
      },
      "execution_count": 124,
      "outputs": []
    },
    {
      "cell_type": "code",
      "source": [
        "plt.figure(figsize=(25,10))\n",
        "\n",
        "sns.barplot(data = top10_dict,\n",
        "            x=\"District\",\n",
        "            y=\"Total_Visitors\")"
      ],
      "metadata": {
        "colab": {
          "base_uri": "https://localhost:8080/",
          "height": 739
        },
        "id": "lMOjkLL7g_1u",
        "outputId": "23a82b16-4e97-48a1-99e8-e9a080dc5a69"
      },
      "execution_count": 127,
      "outputs": [
        {
          "output_type": "execute_result",
          "data": {
            "text/plain": [
              "<Axes: xlabel='District', ylabel='Total_Visitors'>"
            ]
          },
          "metadata": {},
          "execution_count": 127
        },
        {
          "output_type": "display_data",
          "data": {
            "text/plain": [
              "<Figure size 2500x1000 with 1 Axes>"
            ],
            "image/png": "[encoded data removed]"
          },
          "metadata": {}
        }
      ]
    },
    {
      "cell_type": "code",
      "source": [],
      "metadata": {
        "id": "f6GENOAzg_zL"
      },
      "execution_count": null,
      "outputs": []
    },
    {
      "cell_type": "code",
      "source": [],
      "metadata": {
        "id": "aDYaXg1Gg_w0"
      },
      "execution_count": null,
      "outputs": []
    },
    {
      "cell_type": "code",
      "source": [],
      "metadata": {
        "id": "0uJdZ_hfg_uV"
      },
      "execution_count": null,
      "outputs": []
    },
    {
      "cell_type": "code",
      "source": [],
      "metadata": {
        "id": "o3CjGeJxg_r8"
      },
      "execution_count": null,
      "outputs": []
    },
    {
      "cell_type": "code",
      "source": [],
      "metadata": {
        "id": "6ENNRXQ1g_pc"
      },
      "execution_count": null,
      "outputs": []
    }
  ]
}
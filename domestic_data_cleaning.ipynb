{
 "cells": [
  {
   "attachments": {
    "image.png": {
     "image/png": "[encoded data removed]"
    }
   },
   "cell_type": "markdown",
   "metadata": {},
   "source": [
    "![image.png](attachment:image.png)"
   ]
  },
  {
   "cell_type": "markdown",
   "metadata": {},
   "source": [
    "# Importing all Libraries"
   ]
  },
  {
   "cell_type": "code",
   "execution_count": 48,
   "metadata": {},
   "outputs": [],
   "source": [
    "import pandas as pd\n",
    "import numpy as np\n",
    "import seaborn as sns\n",
    "import matplotlib.pyplot as plt"
   ]
  },
  {
   "cell_type": "code",
   "execution_count": 49,
   "metadata": {},
   "outputs": [],
   "source": [
    "import os"
   ]
  },
  {
   "cell_type": "code",
   "execution_count": 50,
   "metadata": {},
   "outputs": [],
   "source": [
    "base_path = r'E:\\CSV_Files\\Project\\Tourism-Telangana\\domestic_visitors'"
   ]
  },
  {
   "cell_type": "code",
   "execution_count": 51,
   "metadata": {},
   "outputs": [],
   "source": [
    "files = os.listdir(base_path)"
   ]
  },
  {
   "cell_type": "code",
   "execution_count": 52,
   "metadata": {},
   "outputs": [
    {
     "data": {
      "text/plain": [
       "['domestic_visitors_2016.csv',\n",
       " 'domestic_visitors_2017.csv',\n",
       " 'domestic_visitors_2018.csv',\n",
       " 'domestic_visitors_2019.csv',\n",
       " 'final_merge_data.csv']"
      ]
     },
     "execution_count": 52,
     "metadata": {},
     "output_type": "execute_result"
    }
   ],
   "source": [
    "file = files[1:]\n",
    "file"
   ]
  },
  {
   "cell_type": "code",
   "execution_count": 53,
   "metadata": {},
   "outputs": [],
   "source": [
    "df0 = pd.read_csv(f\"{base_path}\\{file[0]}\")\n",
    "df1 = pd.read_csv(f\"{base_path}\\{file[1]}\")\n",
    "df2 = pd.read_csv(f\"{base_path}\\{file[2]}\")\n",
    "df3 = pd.read_csv(f\"{base_path}\\{file[3]}\")"
   ]
  },
  {
   "cell_type": "code",
   "execution_count": 54,
   "metadata": {},
   "outputs": [
    {
     "data": {
      "text/html": [
       "<div>\n",
       "<style scoped>\n",
       "    .dataframe tbody tr th:only-of-type {\n",
       "        vertical-align: middle;\n",
       "    }\n",
       "\n",
       "    .dataframe tbody tr th {\n",
       "        vertical-align: top;\n",
       "    }\n",
       "\n",
       "    .dataframe thead th {\n",
       "        text-align: right;\n",
       "    }\n",
       "</style>\n",
       "<table border=\"1\" class=\"dataframe\">\n",
       "  <thead>\n",
       "    <tr style=\"text-align: right;\">\n",
       "      <th></th>\n",
       "      <th>district</th>\n",
       "      <th>date</th>\n",
       "      <th>month</th>\n",
       "      <th>year</th>\n",
       "      <th>visitors</th>\n",
       "    </tr>\n",
       "  </thead>\n",
       "  <tbody>\n",
       "    <tr>\n",
       "      <th>0</th>\n",
       "      <td>Adilabad</td>\n",
       "      <td>01-01-2016</td>\n",
       "      <td>January</td>\n",
       "      <td>2016</td>\n",
       "      <td>792136</td>\n",
       "    </tr>\n",
       "    <tr>\n",
       "      <th>1</th>\n",
       "      <td>Adilabad</td>\n",
       "      <td>01-02-2016</td>\n",
       "      <td>February</td>\n",
       "      <td>2016</td>\n",
       "      <td>937820</td>\n",
       "    </tr>\n",
       "    <tr>\n",
       "      <th>2</th>\n",
       "      <td>Adilabad</td>\n",
       "      <td>01-03-2016</td>\n",
       "      <td>March</td>\n",
       "      <td>2016</td>\n",
       "      <td>582946</td>\n",
       "    </tr>\n",
       "    <tr>\n",
       "      <th>3</th>\n",
       "      <td>Adilabad</td>\n",
       "      <td>01-04-2016</td>\n",
       "      <td>April</td>\n",
       "      <td>2016</td>\n",
       "      <td>341948</td>\n",
       "    </tr>\n",
       "    <tr>\n",
       "      <th>4</th>\n",
       "      <td>Adilabad</td>\n",
       "      <td>01-05-2016</td>\n",
       "      <td>May</td>\n",
       "      <td>2016</td>\n",
       "      <td>252887</td>\n",
       "    </tr>\n",
       "    <tr>\n",
       "      <th>...</th>\n",
       "      <td>...</td>\n",
       "      <td>...</td>\n",
       "      <td>...</td>\n",
       "      <td>...</td>\n",
       "      <td>...</td>\n",
       "    </tr>\n",
       "    <tr>\n",
       "      <th>367</th>\n",
       "      <td>Yadadri Bhongir</td>\n",
       "      <td>01-08-2016</td>\n",
       "      <td>August</td>\n",
       "      <td>2016</td>\n",
       "      <td></td>\n",
       "    </tr>\n",
       "    <tr>\n",
       "      <th>368</th>\n",
       "      <td>Yadadri Bhongir</td>\n",
       "      <td>01-09-2016</td>\n",
       "      <td>September</td>\n",
       "      <td>2016</td>\n",
       "      <td></td>\n",
       "    </tr>\n",
       "    <tr>\n",
       "      <th>369</th>\n",
       "      <td>Yadadri Bhongir</td>\n",
       "      <td>01-10-2016</td>\n",
       "      <td>October</td>\n",
       "      <td>2016</td>\n",
       "      <td>584800</td>\n",
       "    </tr>\n",
       "    <tr>\n",
       "      <th>370</th>\n",
       "      <td>Yadadri Bhongir</td>\n",
       "      <td>01-11-2016</td>\n",
       "      <td>November</td>\n",
       "      <td>2016</td>\n",
       "      <td>681000</td>\n",
       "    </tr>\n",
       "    <tr>\n",
       "      <th>371</th>\n",
       "      <td>Yadadri Bhongir</td>\n",
       "      <td>01-12-2016</td>\n",
       "      <td>December</td>\n",
       "      <td>2016</td>\n",
       "      <td>462800</td>\n",
       "    </tr>\n",
       "  </tbody>\n",
       "</table>\n",
       "<p>372 rows × 5 columns</p>\n",
       "</div>"
      ],
      "text/plain": [
       "            district        date      month  year visitors\n",
       "0           Adilabad  01-01-2016    January  2016   792136\n",
       "1           Adilabad  01-02-2016   February  2016   937820\n",
       "2           Adilabad  01-03-2016      March  2016   582946\n",
       "3           Adilabad  01-04-2016      April  2016   341948\n",
       "4           Adilabad  01-05-2016        May  2016   252887\n",
       "..               ...         ...        ...   ...      ...\n",
       "367  Yadadri Bhongir  01-08-2016     August  2016         \n",
       "368  Yadadri Bhongir  01-09-2016  September  2016         \n",
       "369  Yadadri Bhongir  01-10-2016    October  2016   584800\n",
       "370  Yadadri Bhongir  01-11-2016   November  2016   681000\n",
       "371  Yadadri Bhongir  01-12-2016   December  2016   462800\n",
       "\n",
       "[372 rows x 5 columns]"
      ]
     },
     "execution_count": 54,
     "metadata": {},
     "output_type": "execute_result"
    }
   ],
   "source": [
    "df0"
   ]
  },
  {
   "cell_type": "code",
   "execution_count": 55,
   "metadata": {},
   "outputs": [
    {
     "data": {
      "text/plain": [
       "district    0\n",
       "date        0\n",
       "month       0\n",
       "year        0\n",
       "visitors    0\n",
       "dtype: int64"
      ]
     },
     "execution_count": 55,
     "metadata": {},
     "output_type": "execute_result"
    }
   ],
   "source": [
    "df0.isnull().sum()"
   ]
  },
  {
   "cell_type": "code",
   "execution_count": 56,
   "metadata": {},
   "outputs": [
    {
     "data": {
      "text/plain": [
       "district    0\n",
       "date        0\n",
       "month       0\n",
       "year        0\n",
       "visitors    0\n",
       "dtype: int64"
      ]
     },
     "execution_count": 56,
     "metadata": {},
     "output_type": "execute_result"
    }
   ],
   "source": [
    "df1.isnull().sum()"
   ]
  },
  {
   "cell_type": "code",
   "execution_count": 57,
   "metadata": {},
   "outputs": [
    {
     "data": {
      "text/plain": [
       "district     0\n",
       "date         0\n",
       "month        0\n",
       "year         0\n",
       "visitors    12\n",
       "dtype: int64"
      ]
     },
     "execution_count": 57,
     "metadata": {},
     "output_type": "execute_result"
    }
   ],
   "source": [
    "df2.isnull().sum()"
   ]
  },
  {
   "cell_type": "code",
   "execution_count": 58,
   "metadata": {},
   "outputs": [],
   "source": [
    "df2['visitors'] = df2['visitors'].fillna('0')"
   ]
  },
  {
   "cell_type": "code",
   "execution_count": 59,
   "metadata": {},
   "outputs": [
    {
     "data": {
      "text/plain": [
       "district    0\n",
       "date        0\n",
       "month       0\n",
       "year        0\n",
       "visitors    0\n",
       "dtype: int64"
      ]
     },
     "execution_count": 59,
     "metadata": {},
     "output_type": "execute_result"
    }
   ],
   "source": [
    "df2.isnull().sum()"
   ]
  },
  {
   "cell_type": "code",
   "execution_count": 60,
   "metadata": {},
   "outputs": [
    {
     "data": {
      "text/plain": [
       "district     0\n",
       "date         0\n",
       "month        0\n",
       "year         0\n",
       "visitors    18\n",
       "dtype: int64"
      ]
     },
     "execution_count": 60,
     "metadata": {},
     "output_type": "execute_result"
    }
   ],
   "source": [
    "df3.isnull().sum()"
   ]
  },
  {
   "cell_type": "code",
   "execution_count": 61,
   "metadata": {},
   "outputs": [],
   "source": [
    "df3['visitors'] = df3['visitors'].fillna('0')"
   ]
  },
  {
   "cell_type": "code",
   "execution_count": 62,
   "metadata": {},
   "outputs": [
    {
     "data": {
      "text/plain": [
       "district    0\n",
       "date        0\n",
       "month       0\n",
       "year        0\n",
       "visitors    0\n",
       "dtype: int64"
      ]
     },
     "execution_count": 62,
     "metadata": {},
     "output_type": "execute_result"
    }
   ],
   "source": [
    "df3.isnull().sum()"
   ]
  },
  {
   "cell_type": "code",
   "execution_count": 63,
   "metadata": {},
   "outputs": [],
   "source": [
    "df4 = pd.concat([df0,df1])\n"
   ]
  },
  {
   "cell_type": "code",
   "execution_count": 64,
   "metadata": {},
   "outputs": [],
   "source": [
    "df5 = pd.concat([df4,df2])"
   ]
  },
  {
   "cell_type": "code",
   "execution_count": 65,
   "metadata": {},
   "outputs": [],
   "source": [
    "df6 = pd.concat([df5,df3])"
   ]
  },
  {
   "cell_type": "code",
   "execution_count": 66,
   "metadata": {},
   "outputs": [],
   "source": [
    "df = df6.copy()"
   ]
  },
  {
   "cell_type": "code",
   "execution_count": 67,
   "metadata": {},
   "outputs": [
    {
     "data": {
      "text/html": [
       "<div>\n",
       "<style scoped>\n",
       "    .dataframe tbody tr th:only-of-type {\n",
       "        vertical-align: middle;\n",
       "    }\n",
       "\n",
       "    .dataframe tbody tr th {\n",
       "        vertical-align: top;\n",
       "    }\n",
       "\n",
       "    .dataframe thead th {\n",
       "        text-align: right;\n",
       "    }\n",
       "</style>\n",
       "<table border=\"1\" class=\"dataframe\">\n",
       "  <thead>\n",
       "    <tr style=\"text-align: right;\">\n",
       "      <th></th>\n",
       "      <th>district</th>\n",
       "      <th>date</th>\n",
       "      <th>month</th>\n",
       "      <th>year</th>\n",
       "      <th>visitors</th>\n",
       "    </tr>\n",
       "  </thead>\n",
       "  <tbody>\n",
       "    <tr>\n",
       "      <th>0</th>\n",
       "      <td>Adilabad</td>\n",
       "      <td>01-01-2016</td>\n",
       "      <td>January</td>\n",
       "      <td>2016</td>\n",
       "      <td>792136</td>\n",
       "    </tr>\n",
       "    <tr>\n",
       "      <th>1</th>\n",
       "      <td>Adilabad</td>\n",
       "      <td>01-02-2016</td>\n",
       "      <td>February</td>\n",
       "      <td>2016</td>\n",
       "      <td>937820</td>\n",
       "    </tr>\n",
       "    <tr>\n",
       "      <th>2</th>\n",
       "      <td>Adilabad</td>\n",
       "      <td>01-03-2016</td>\n",
       "      <td>March</td>\n",
       "      <td>2016</td>\n",
       "      <td>582946</td>\n",
       "    </tr>\n",
       "    <tr>\n",
       "      <th>3</th>\n",
       "      <td>Adilabad</td>\n",
       "      <td>01-04-2016</td>\n",
       "      <td>April</td>\n",
       "      <td>2016</td>\n",
       "      <td>341948</td>\n",
       "    </tr>\n",
       "    <tr>\n",
       "      <th>4</th>\n",
       "      <td>Adilabad</td>\n",
       "      <td>01-05-2016</td>\n",
       "      <td>May</td>\n",
       "      <td>2016</td>\n",
       "      <td>252887</td>\n",
       "    </tr>\n",
       "    <tr>\n",
       "      <th>...</th>\n",
       "      <td>...</td>\n",
       "      <td>...</td>\n",
       "      <td>...</td>\n",
       "      <td>...</td>\n",
       "      <td>...</td>\n",
       "    </tr>\n",
       "    <tr>\n",
       "      <th>391</th>\n",
       "      <td>Yadadri Bhongir</td>\n",
       "      <td>01-08-2019</td>\n",
       "      <td>August</td>\n",
       "      <td>2019</td>\n",
       "      <td>389010</td>\n",
       "    </tr>\n",
       "    <tr>\n",
       "      <th>392</th>\n",
       "      <td>Yadadri Bhongir</td>\n",
       "      <td>01-09-2019</td>\n",
       "      <td>September</td>\n",
       "      <td>2019</td>\n",
       "      <td>366862</td>\n",
       "    </tr>\n",
       "    <tr>\n",
       "      <th>393</th>\n",
       "      <td>Yadadri Bhongir</td>\n",
       "      <td>01-10-2019</td>\n",
       "      <td>October</td>\n",
       "      <td>2019</td>\n",
       "      <td>381860</td>\n",
       "    </tr>\n",
       "    <tr>\n",
       "      <th>394</th>\n",
       "      <td>Yadadri Bhongir</td>\n",
       "      <td>01-11-2019</td>\n",
       "      <td>November</td>\n",
       "      <td>2019</td>\n",
       "      <td>365990</td>\n",
       "    </tr>\n",
       "    <tr>\n",
       "      <th>395</th>\n",
       "      <td>Yadadri Bhongir</td>\n",
       "      <td>01-12-2019</td>\n",
       "      <td>December</td>\n",
       "      <td>2019</td>\n",
       "      <td>477635</td>\n",
       "    </tr>\n",
       "  </tbody>\n",
       "</table>\n",
       "<p>1512 rows × 5 columns</p>\n",
       "</div>"
      ],
      "text/plain": [
       "            district        date      month  year visitors\n",
       "0           Adilabad  01-01-2016    January  2016   792136\n",
       "1           Adilabad  01-02-2016   February  2016   937820\n",
       "2           Adilabad  01-03-2016      March  2016   582946\n",
       "3           Adilabad  01-04-2016      April  2016   341948\n",
       "4           Adilabad  01-05-2016        May  2016   252887\n",
       "..               ...         ...        ...   ...      ...\n",
       "391  Yadadri Bhongir  01-08-2019     August  2019   389010\n",
       "392  Yadadri Bhongir  01-09-2019  September  2019   366862\n",
       "393  Yadadri Bhongir  01-10-2019    October  2019   381860\n",
       "394  Yadadri Bhongir  01-11-2019   November  2019   365990\n",
       "395  Yadadri Bhongir  01-12-2019   December  2019   477635\n",
       "\n",
       "[1512 rows x 5 columns]"
      ]
     },
     "execution_count": 67,
     "metadata": {},
     "output_type": "execute_result"
    }
   ],
   "source": [
    "df"
   ]
  },
  {
   "cell_type": "code",
   "execution_count": 68,
   "metadata": {},
   "outputs": [
    {
     "data": {
      "text/plain": [
       "district    0\n",
       "date        0\n",
       "month       0\n",
       "year        0\n",
       "visitors    0\n",
       "dtype: int64"
      ]
     },
     "execution_count": 68,
     "metadata": {},
     "output_type": "execute_result"
    }
   ],
   "source": [
    "df.isnull().sum()"
   ]
  },
  {
   "cell_type": "code",
   "execution_count": 69,
   "metadata": {},
   "outputs": [
    {
     "data": {
      "text/plain": [
       "(1512, 5)"
      ]
     },
     "execution_count": 69,
     "metadata": {},
     "output_type": "execute_result"
    }
   ],
   "source": [
    "df.shape"
   ]
  },
  {
   "cell_type": "code",
   "execution_count": 70,
   "metadata": {},
   "outputs": [
    {
     "data": {
      "text/plain": [
       "Index(['District', 'Date', 'Month', 'Year', 'Visitors'], dtype='object')"
      ]
     },
     "execution_count": 70,
     "metadata": {},
     "output_type": "execute_result"
    }
   ],
   "source": [
    "df.columns = df.columns.str.title()\n",
    "df.columns"
   ]
  },
  {
   "cell_type": "code",
   "execution_count": 71,
   "metadata": {},
   "outputs": [
    {
     "name": "stdout",
     "output_type": "stream",
     "text": [
      "<class 'pandas.core.frame.DataFrame'>\n",
      "Int64Index: 1512 entries, 0 to 395\n",
      "Data columns (total 5 columns):\n",
      " #   Column    Non-Null Count  Dtype \n",
      "---  ------    --------------  ----- \n",
      " 0   District  1512 non-null   object\n",
      " 1   Date      1512 non-null   object\n",
      " 2   Month     1512 non-null   object\n",
      " 3   Year      1512 non-null   int64 \n",
      " 4   Visitors  1512 non-null   object\n",
      "dtypes: int64(1), object(4)\n",
      "memory usage: 70.9+ KB\n"
     ]
    }
   ],
   "source": [
    "df.info()"
   ]
  }
 ],
 "metadata": {
  "kernelspec": {
   "display_name": "Python 3",
   "language": "python",
   "name": "python3"
  },
  "language_info": {
   "codemirror_mode": {
    "name": "ipython",
    "version": 3
   },
   "file_extension": ".py",
   "mimetype": "text/x-python",
   "name": "python",
   "nbconvert_exporter": "python",
   "pygments_lexer": "ipython3",
   "version": "3.11.0"
  },
  "orig_nbformat": 4
 },
 "nbformat": 4,
 "nbformat_minor": 2
}
